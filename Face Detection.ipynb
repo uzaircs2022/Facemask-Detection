{
  "nbformat": 4,
  "nbformat_minor": 0,
  "metadata": {
    "colab": {
      "name": "Face_mask_algo.ipynb",
      "provenance": [],
      "collapsed_sections": []
    },
    "kernelspec": {
      "name": "python3",
      "display_name": "Python 3"
    }
  },
  "cells": [
    {
      "cell_type": "code",
      "metadata": {
        "colab": {
          "base_uri": "https://localhost:8080/"
        },
        "id": "cXEDu2VCSLgy",
        "outputId": "3f9f5d59-9ac3-4426-806f-3033b323ef8c"
      },
      "source": [
        "from google.colab import drive\r\n",
        "drive.mount('/content/drive', force_remount=True)"
      ],
      "execution_count": 1,
      "outputs": [
        {
          "output_type": "stream",
          "text": [
            "Mounted at /content/drive\n"
          ],
          "name": "stdout"
        }
      ]
    },
    {
      "cell_type": "code",
      "metadata": {
        "id": "28Qcj7H5bDqZ"
      },
      "source": [
        "!unzip \"/content/drive/My Drive/Face_Mask.zip\""
      ],
      "execution_count": null,
      "outputs": []
    },
    {
      "cell_type": "code",
      "metadata": {
        "id": "SPDJM4P4bIx2"
      },
      "source": [
        "import cv2\r\n",
        "import numpy as np\r\n",
        "import os\r\n",
        "import csv"
      ],
      "execution_count": 2,
      "outputs": []
    },
    {
      "cell_type": "code",
      "metadata": {
        "id": "Wmmg9Uy1bMGl"
      },
      "source": [
        "trainingDataset = []\r\n",
        "img_size = 100\r\n",
        "path = \"/content/drive/My Drive/Pictures/Train\"\r\n"
      ],
      "execution_count": 5,
      "outputs": []
    },
    {
      "cell_type": "code",
      "metadata": {
        "colab": {
          "base_uri": "https://localhost:8080/"
        },
        "id": "V9OjN6NTgE7J",
        "outputId": "27e515e2-f364-44a2-9994-1279a9714288"
      },
      "source": [
        "classNumber = 0\r\n",
        "trainingDataset.clear()\r\n",
        "\r\n",
        "for folder in (os.listdir(path)):\r\n",
        "  print(classNumber)\r\n",
        "  print(\"Folder Name:\",folder)\r\n",
        "  # folder = with_mask ,without_mask\r\n",
        "  fp = os.path.join(path,folder)\r\n",
        "  # joining folder like /content/Face_Mask/Train/with_mask\r\n",
        "  for eachImage in os.listdir(fp):\r\n",
        "    imagePath = os.path.join(fp,eachImage)\r\n",
        "    img = (cv2.imread(imagePath,cv2.IMREAD_GRAYSCALE))/255\r\n",
        "    resize=cv2.resize(img,(img_size,img_size))\r\n",
        "    trainingDataset.append([resize,classNumber])\r\n",
        "  classNumber = classNumber + 1"
      ],
      "execution_count": 6,
      "outputs": [
        {
          "output_type": "stream",
          "text": [
            "0\n",
            "Folder Name: With Mask\n",
            "1\n",
            "Folder Name: Without Mask\n"
          ],
          "name": "stdout"
        }
      ]
    },
    {
      "cell_type": "code",
      "metadata": {
        "id": "IP0SOCTHKp9h"
      },
      "source": [
        "from tensorflow.keras.models import Sequential\r\n",
        "from tensorflow.keras.layers import Dense, Dropout, Activation, Flatten\r\n",
        "from tensorflow.keras.layers import Conv2D, MaxPooling2D\r\n",
        "from tensorflow.keras.callbacks import TensorBoard\r\n",
        "from tensorflow.keras.utils import to_categorical\r\n",
        "import pickle\r\n",
        "import time"
      ],
      "execution_count": 7,
      "outputs": []
    },
    {
      "cell_type": "code",
      "metadata": {
        "colab": {
          "base_uri": "https://localhost:8080/"
        },
        "id": "Bxbf6LtMeZHH",
        "outputId": "694717e5-ba8d-4efe-94e6-a0e6e87c2bd6"
      },
      "source": [
        "X = []\r\n",
        "Y = []\r\n",
        "img_size = 100\r\n",
        "np.random.shuffle(trainingDataset)\r\n",
        "for features, label in trainingDataset:\r\n",
        "    X.append(features)\r\n",
        "    Y.append(label)\r\n",
        "print(Y) "
      ],
      "execution_count": 8,
      "outputs": [
        {
          "output_type": "stream",
          "text": [
            "[1, 1, 0, 1, 1, 0, 1, 0, 0, 1, 1, 0, 1, 0, 1, 0, 0, 1, 1, 1, 0, 0, 0, 1, 1, 0, 0, 0, 0, 0, 1, 0, 1, 0, 1, 1]\n"
          ],
          "name": "stdout"
        }
      ]
    },
    {
      "cell_type": "code",
      "metadata": {
        "id": "byxeIAmNgUIV",
        "colab": {
          "base_uri": "https://localhost:8080/"
        },
        "outputId": "eed7937d-cd99-4b10-d5b8-0d1f06f8faae"
      },
      "source": [
        "X = np.array(X).reshape(-1, img_size, img_size, 1)\r\n",
        "Y_binary = to_categorical(Y)\r\n",
        "print(Y_binary)"
      ],
      "execution_count": 9,
      "outputs": [
        {
          "output_type": "stream",
          "text": [
            "[[0. 1.]\n",
            " [0. 1.]\n",
            " [1. 0.]\n",
            " [0. 1.]\n",
            " [0. 1.]\n",
            " [1. 0.]\n",
            " [0. 1.]\n",
            " [1. 0.]\n",
            " [1. 0.]\n",
            " [0. 1.]\n",
            " [0. 1.]\n",
            " [1. 0.]\n",
            " [0. 1.]\n",
            " [1. 0.]\n",
            " [0. 1.]\n",
            " [1. 0.]\n",
            " [1. 0.]\n",
            " [0. 1.]\n",
            " [0. 1.]\n",
            " [0. 1.]\n",
            " [1. 0.]\n",
            " [1. 0.]\n",
            " [1. 0.]\n",
            " [0. 1.]\n",
            " [0. 1.]\n",
            " [1. 0.]\n",
            " [1. 0.]\n",
            " [1. 0.]\n",
            " [1. 0.]\n",
            " [1. 0.]\n",
            " [0. 1.]\n",
            " [1. 0.]\n",
            " [0. 1.]\n",
            " [1. 0.]\n",
            " [0. 1.]\n",
            " [0. 1.]]\n"
          ],
          "name": "stdout"
        }
      ]
    },
    {
      "cell_type": "code",
      "metadata": {
        "id": "KeCpGeyWgZX3"
      },
      "source": [
        "model = Sequential()\r\n",
        "\r\n",
        "model.add(Conv2D(200, (3, 3), input_shape=(100,100,1)))\r\n",
        "model.add(Activation('relu'))\r\n",
        "model.add(MaxPooling2D(pool_size=(2, 2)))\r\n",
        "\r\n",
        "model.add(Conv2D(100, (3, 3)))\r\n",
        "model.add(Activation('relu'))\r\n",
        "model.add(MaxPooling2D(pool_size=(2, 2)))\r\n",
        "\r\n",
        "\r\n",
        "model.add(Flatten())\r\n",
        "model.add(Dropout(0.5))\r\n",
        "model.add(Dense(50))\r\n",
        "model.add(Activation('relu'))\r\n",
        " \r\n",
        "model.add(Dense(2))\r\n",
        "model.add(Activation('softmax'))"
      ],
      "execution_count": 10,
      "outputs": []
    },
    {
      "cell_type": "code",
      "metadata": {
        "id": "IxCNSCyHgjgD"
      },
      "source": [
        "model.compile(loss='categorical_crossentropy',\r\n",
        "              optimizer='adam',\r\n",
        "              metrics=['accuracy'],\r\n",
        "              )"
      ],
      "execution_count": 11,
      "outputs": []
    },
    {
      "cell_type": "code",
      "metadata": {
        "colab": {
          "base_uri": "https://localhost:8080/"
        },
        "id": "0HM-djn-gol9",
        "outputId": "b6cf1d72-7065-4f4f-a576-203bb4e04d08"
      },
      "source": [
        "model.fit(X, Y_binary,\r\n",
        "          batch_size = 32,\r\n",
        "          epochs=20, validation_split = 0.1)\r\n",
        " \r\n",
        "model.save(\"/content/drive/My Drive/face_mask/Models/{NAME}.model\")"
      ],
      "execution_count": 12,
      "outputs": [
        {
          "output_type": "stream",
          "text": [
            "Epoch 1/20\n",
            "1/1 [==============================] - 4s 4s/step - loss: 0.6881 - accuracy: 0.5312 - val_loss: 0.7162 - val_accuracy: 0.2500\n",
            "Epoch 2/20\n",
            "1/1 [==============================] - 2s 2s/step - loss: 0.6463 - accuracy: 0.6250 - val_loss: 2.0228 - val_accuracy: 0.2500\n",
            "Epoch 3/20\n",
            "1/1 [==============================] - 2s 2s/step - loss: 0.9540 - accuracy: 0.5312 - val_loss: 0.9887 - val_accuracy: 0.7500\n",
            "Epoch 4/20\n",
            "1/1 [==============================] - 2s 2s/step - loss: 1.8163 - accuracy: 0.4688 - val_loss: 0.5774 - val_accuracy: 0.7500\n",
            "Epoch 5/20\n",
            "1/1 [==============================] - 2s 2s/step - loss: 0.9493 - accuracy: 0.4688 - val_loss: 0.6429 - val_accuracy: 0.7500\n",
            "Epoch 6/20\n",
            "1/1 [==============================] - 2s 2s/step - loss: 0.6828 - accuracy: 0.4688 - val_loss: 0.7398 - val_accuracy: 0.2500\n",
            "Epoch 7/20\n",
            "1/1 [==============================] - 2s 2s/step - loss: 0.6741 - accuracy: 0.5312 - val_loss: 0.7584 - val_accuracy: 0.2500\n",
            "Epoch 8/20\n",
            "1/1 [==============================] - 2s 2s/step - loss: 0.6765 - accuracy: 0.5312 - val_loss: 0.7600 - val_accuracy: 0.2500\n",
            "Epoch 9/20\n",
            "1/1 [==============================] - 2s 2s/step - loss: 0.6661 - accuracy: 0.5625 - val_loss: 0.7329 - val_accuracy: 0.2500\n",
            "Epoch 10/20\n",
            "1/1 [==============================] - 2s 2s/step - loss: 0.6379 - accuracy: 0.9062 - val_loss: 0.7698 - val_accuracy: 0.2500\n",
            "Epoch 11/20\n",
            "1/1 [==============================] - 2s 2s/step - loss: 0.6071 - accuracy: 0.9062 - val_loss: 0.8822 - val_accuracy: 0.2500\n",
            "Epoch 12/20\n",
            "1/1 [==============================] - 2s 2s/step - loss: 0.5880 - accuracy: 0.7500 - val_loss: 0.8746 - val_accuracy: 0.2500\n",
            "Epoch 13/20\n",
            "1/1 [==============================] - 2s 2s/step - loss: 0.5537 - accuracy: 0.8125 - val_loss: 0.7950 - val_accuracy: 0.2500\n",
            "Epoch 14/20\n",
            "1/1 [==============================] - 2s 2s/step - loss: 0.5105 - accuracy: 0.8750 - val_loss: 1.0887 - val_accuracy: 0.2500\n",
            "Epoch 15/20\n",
            "1/1 [==============================] - 2s 2s/step - loss: 0.4662 - accuracy: 0.8438 - val_loss: 0.9449 - val_accuracy: 0.2500\n",
            "Epoch 16/20\n",
            "1/1 [==============================] - 2s 2s/step - loss: 0.4123 - accuracy: 0.9062 - val_loss: 1.0862 - val_accuracy: 0.2500\n",
            "Epoch 17/20\n",
            "1/1 [==============================] - 2s 2s/step - loss: 0.3949 - accuracy: 0.8750 - val_loss: 1.2665 - val_accuracy: 0.2500\n",
            "Epoch 18/20\n",
            "1/1 [==============================] - 2s 2s/step - loss: 0.3593 - accuracy: 0.8750 - val_loss: 0.8741 - val_accuracy: 0.0000e+00\n",
            "Epoch 19/20\n",
            "1/1 [==============================] - 2s 2s/step - loss: 0.3923 - accuracy: 0.7500 - val_loss: 2.7163 - val_accuracy: 0.2500\n",
            "Epoch 20/20\n",
            "1/1 [==============================] - 2s 2s/step - loss: 0.5506 - accuracy: 0.7188 - val_loss: 1.5118 - val_accuracy: 0.2500\n",
            "INFO:tensorflow:Assets written to: /content/drive/My Drive/face_mask/Models/{NAME}.model/assets\n"
          ],
          "name": "stdout"
        }
      ]
    },
    {
      "cell_type": "code",
      "metadata": {
        "id": "EGKa_qUOp8hw"
      },
      "source": [
        "def prepare(filepath):\r\n",
        "    img_size = 100 \r\n",
        "    img = cv2.imread(filepath, cv2.IMREAD_GRAYSCALE)/255  \r\n",
        "    img_resize = cv2.resize(img, (img_size, img_size))  \r\n",
        "    return img_resize.reshape(-1, img_size, img_size, 1)"
      ],
      "execution_count": 13,
      "outputs": []
    },
    {
      "cell_type": "code",
      "metadata": {
        "colab": {
          "base_uri": "https://localhost:8080/"
        },
        "id": "F0p6TlqUrm0R",
        "outputId": "491d24cb-a6f5-462f-fd93-0d2098725a56"
      },
      "source": [
        "prediction = model.predict(prepare(\"/content/drive/My Drive/Pictures/Test/With Mask/check.jpg\"))\r\n",
        "print((prediction))\r\n",
        "\r\n",
        "CATEGORIES = [\"with_mask\", \"without_mask\"]\r\n",
        "\r\n",
        "pred_class = CATEGORIES[np.argmax(prediction)]\r\n",
        "print(pred_class)\r\n"
      ],
      "execution_count": 14,
      "outputs": [
        {
          "output_type": "stream",
          "text": [
            "[[0.9408954  0.05910468]]\n",
            "with_mask\n"
          ],
          "name": "stdout"
        }
      ]
    }
  ]
}